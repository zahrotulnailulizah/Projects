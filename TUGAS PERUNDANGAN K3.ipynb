{
 "cells": [
  {
   "cell_type": "markdown",
   "metadata": {},
   "source": [
    "**Zahrotul Nailul Izah**\n",
    "\n",
    "**0519140128**\n",
    "\n",
    "**Perundangan K3**\n",
    "\n",
    "**RPL D4 K3 PPNS**"
   ]
  },
  {
   "cell_type": "markdown",
   "metadata": {},
   "source": [
    "Menurut keputusan Menteri Ketenagakerjaan Republik Indonesia No.365 Tahun 2020 Tentang Petunjuk Pelaksanaan Bulan Keselamatan dan Kesehatan Kerja Nasional Tahun 2021 telah memutuskan bahwa diadakannya pelaksanaan Bulan K3 Tahun 2021 dimulai pada tanggal 12 Januari 2021 sampai dengan 12 Februari 2021 dan dilaksanakan secara terus menerus dan berkesinambungan. Sehingga, tujuan diadakannya hal tersebut salah satunya adalah untuk meningkatkan penerapan K3 pada pola dan bentuk pekerjaan baru yang timbul akibat era ekonomi digitalisasi. Pada era ekonomi digitalisasi saat ini sedang bergerak maju menghadapi tantangan pada Era Revolusi Industri 4.0 yang menerapkan metode digital seperti inovasi pada otomatisasi, super computer, robot, fleksibilitas pola kerja, modifikasi genetic, dan artificial intelligence. \n",
    "\n",
    "Pada dewasa ini, perkembangan dibidang teknologi sangatlah pesat apalagi pada era digitalisasi saat ini. Penggunaan Artificial Intelligence menjadi topik hangat yang diperbincangkan dan digunakan saat ini. Banyak faktor yang menunjang sisi positif dan kemudahan dalam penerapan menggunakan metode tersebut. Oleh karena itu, dalam rangka memperingati bulan K3 berdasarkan keputusan Menteri maka saya mengikuti kegiatan tersebut dengan cara mempromosikan pentingnya penerapan K3 dalam kehidupan sehari-hari dengan cara memprediksi keterikatan kerugian materi akibat jumlah kecelakaan yang ditumbulkan dengan menggunakan algoritma Machine Learning yang merupakan bagian dari Artificial Intelligence yang hasil akhirnya akan saya post pada instagram dan github. "
   ]
  },
  {
   "cell_type": "markdown",
   "metadata": {},
   "source": [
    "Saya menggunakan dataset yang ada pada Badan Pusat Statisika (https://www.bps.go.id/linkTableDinamis/view/id/1134). Dengan menggunakan dataset tersebut saya ingin memprediksi keterikatan kerugian materi yang ditimbulkan akibat jumlah kecelakaan yang terjadi dengan menggunakan metode algoritma dasar khusus prediction of Machine Learning yaitu Linear Regression. \n",
    "\n",
    "Linear Regression merupakan Metode Statistik yang berfungsi untuk menguji sejauh mana hubungan sebab akibat antara Variabel Faktor Penyebab (X) terhadap Variabel Akibatnya (Y). Rumus model algoritma ini adalah:\n",
    "Y = a + bX\n",
    "Dimana :\n",
    "Y = Variabel Response atau Variabel Akibat (Dependent)\n",
    "X = Variabel Predictor atau Variabel Faktor Penyebab (Independent)\n",
    "a = konstanta\n",
    "b = koefisien regresi (kemiringan); besaran Response yang ditimbulkan oleh Predictor."
   ]
  },
  {
   "cell_type": "code",
   "execution_count": 1,
   "metadata": {},
   "outputs": [],
   "source": [
    "import numpy as np\n",
    "import pandas as pd\n",
    "import seaborn as sns\n",
    "import matplotlib.pyplot as plt\n",
    "import matplotlib as mpl\n",
    "%matplotlib inline"
   ]
  },
  {
   "cell_type": "markdown",
   "metadata": {},
   "source": [
    "Berikut menampilkan dataset yang digunakan yaitu berupa tahun kejadian, jumlah kecelakaan, korban mati, korban yang mengalami luka berat dan ringan, dan kerugian materi yang ditimbulkan akibat kecelakaan.\n",
    "\n",
    "## Preprocessing\n",
    "Pada proses ini disebut preprocessing data dimana dataset dipersiapkan dan dianalisis sehingga data yang dibuthkan saja yang digunakan agar model yang dibuat sesuai dengan yang diinginkan.\n",
    "\n",
    "satuan dalam dataset yang digunakan yaitu per orang dan nilai Kerugian_materi dalam jutaan"
   ]
  },
  {
   "cell_type": "code",
   "execution_count": 273,
   "metadata": {},
   "outputs": [
    {
     "data": {
      "text/html": [
       "<div>\n",
       "<style scoped>\n",
       "    .dataframe tbody tr th:only-of-type {\n",
       "        vertical-align: middle;\n",
       "    }\n",
       "\n",
       "    .dataframe tbody tr th {\n",
       "        vertical-align: top;\n",
       "    }\n",
       "\n",
       "    .dataframe thead th {\n",
       "        text-align: right;\n",
       "    }\n",
       "</style>\n",
       "<table border=\"1\" class=\"dataframe\">\n",
       "  <thead>\n",
       "    <tr style=\"text-align: right;\">\n",
       "      <th></th>\n",
       "      <th>Tahun</th>\n",
       "      <th>Jumlah_kecelakaan</th>\n",
       "      <th>Korban_mati</th>\n",
       "      <th>Luka_berat</th>\n",
       "      <th>Luka_ringan</th>\n",
       "      <th>Kerugian_materi</th>\n",
       "    </tr>\n",
       "  </thead>\n",
       "  <tbody>\n",
       "    <tr>\n",
       "      <td>0</td>\n",
       "      <td>1992</td>\n",
       "      <td>19920</td>\n",
       "      <td>9819</td>\n",
       "      <td>13363</td>\n",
       "      <td>14846</td>\n",
       "      <td>15077</td>\n",
       "    </tr>\n",
       "    <tr>\n",
       "      <td>1</td>\n",
       "      <td>1993</td>\n",
       "      <td>17323</td>\n",
       "      <td>10038</td>\n",
       "      <td>11453</td>\n",
       "      <td>13037</td>\n",
       "      <td>14714</td>\n",
       "    </tr>\n",
       "    <tr>\n",
       "      <td>2</td>\n",
       "      <td>1994</td>\n",
       "      <td>17469</td>\n",
       "      <td>11004</td>\n",
       "      <td>11055</td>\n",
       "      <td>12215</td>\n",
       "      <td>16544</td>\n",
       "    </tr>\n",
       "    <tr>\n",
       "      <td>3</td>\n",
       "      <td>1995</td>\n",
       "      <td>16510</td>\n",
       "      <td>10990</td>\n",
       "      <td>9952</td>\n",
       "      <td>11873</td>\n",
       "      <td>17745</td>\n",
       "    </tr>\n",
       "    <tr>\n",
       "      <td>4</td>\n",
       "      <td>1996</td>\n",
       "      <td>15291</td>\n",
       "      <td>10869</td>\n",
       "      <td>8968</td>\n",
       "      <td>10374</td>\n",
       "      <td>18411</td>\n",
       "    </tr>\n",
       "    <tr>\n",
       "      <td>5</td>\n",
       "      <td>1997</td>\n",
       "      <td>17101</td>\n",
       "      <td>12308</td>\n",
       "      <td>9913</td>\n",
       "      <td>12699</td>\n",
       "      <td>20848</td>\n",
       "    </tr>\n",
       "    <tr>\n",
       "      <td>6</td>\n",
       "      <td>1998</td>\n",
       "      <td>14858</td>\n",
       "      <td>11694</td>\n",
       "      <td>8878</td>\n",
       "      <td>10609</td>\n",
       "      <td>26941</td>\n",
       "    </tr>\n",
       "    <tr>\n",
       "      <td>7</td>\n",
       "      <td>1999</td>\n",
       "      <td>12675</td>\n",
       "      <td>9917</td>\n",
       "      <td>7329</td>\n",
       "      <td>9385</td>\n",
       "      <td>32755</td>\n",
       "    </tr>\n",
       "    <tr>\n",
       "      <td>8</td>\n",
       "      <td>2000</td>\n",
       "      <td>12649</td>\n",
       "      <td>9536</td>\n",
       "      <td>7100</td>\n",
       "      <td>9518</td>\n",
       "      <td>36281</td>\n",
       "    </tr>\n",
       "    <tr>\n",
       "      <td>9</td>\n",
       "      <td>2001</td>\n",
       "      <td>12791</td>\n",
       "      <td>9522</td>\n",
       "      <td>6656</td>\n",
       "      <td>9181</td>\n",
       "      <td>37617</td>\n",
       "    </tr>\n",
       "  </tbody>\n",
       "</table>\n",
       "</div>"
      ],
      "text/plain": [
       "   Tahun  Jumlah_kecelakaan  Korban_mati  Luka_berat  Luka_ringan  \\\n",
       "0   1992              19920         9819       13363        14846   \n",
       "1   1993              17323        10038       11453        13037   \n",
       "2   1994              17469        11004       11055        12215   \n",
       "3   1995              16510        10990        9952        11873   \n",
       "4   1996              15291        10869        8968        10374   \n",
       "5   1997              17101        12308        9913        12699   \n",
       "6   1998              14858        11694        8878        10609   \n",
       "7   1999              12675         9917        7329         9385   \n",
       "8   2000              12649         9536        7100         9518   \n",
       "9   2001              12791         9522        6656         9181   \n",
       "\n",
       "   Kerugian_materi  \n",
       "0            15077  \n",
       "1            14714  \n",
       "2            16544  \n",
       "3            17745  \n",
       "4            18411  \n",
       "5            20848  \n",
       "6            26941  \n",
       "7            32755  \n",
       "8            36281  \n",
       "9            37617  "
      ]
     },
     "execution_count": 273,
     "metadata": {},
     "output_type": "execute_result"
    }
   ],
   "source": [
    "accident1 = 'accident1.csv'\n",
    "daft = pd.read_csv(accident1)\n",
    "daft.head(10)"
   ]
  },
  {
   "cell_type": "code",
   "execution_count": 274,
   "metadata": {},
   "outputs": [
    {
     "name": "stdout",
     "output_type": "stream",
     "text": [
      "<class 'pandas.core.frame.DataFrame'>\n",
      "RangeIndex: 27 entries, 0 to 26\n",
      "Data columns (total 6 columns):\n",
      "Tahun                27 non-null int64\n",
      "Jumlah_kecelakaan    27 non-null int64\n",
      "Korban_mati          27 non-null int64\n",
      "Luka_berat           27 non-null int64\n",
      "Luka_ringan          27 non-null int64\n",
      "Kerugian_materi      27 non-null int64\n",
      "dtypes: int64(6)\n",
      "memory usage: 1.3 KB\n"
     ]
    }
   ],
   "source": [
    "daft.info()"
   ]
  },
  {
   "cell_type": "code",
   "execution_count": 275,
   "metadata": {},
   "outputs": [
    {
     "data": {
      "text/html": [
       "<div>\n",
       "<style scoped>\n",
       "    .dataframe tbody tr th:only-of-type {\n",
       "        vertical-align: middle;\n",
       "    }\n",
       "\n",
       "    .dataframe tbody tr th {\n",
       "        vertical-align: top;\n",
       "    }\n",
       "\n",
       "    .dataframe thead th {\n",
       "        text-align: right;\n",
       "    }\n",
       "</style>\n",
       "<table border=\"1\" class=\"dataframe\">\n",
       "  <thead>\n",
       "    <tr style=\"text-align: right;\">\n",
       "      <th></th>\n",
       "      <th>Tahun</th>\n",
       "      <th>Jumlah_kecelakaan</th>\n",
       "      <th>Korban_mati</th>\n",
       "      <th>Luka_berat</th>\n",
       "      <th>Luka_ringan</th>\n",
       "      <th>Kerugian_materi</th>\n",
       "    </tr>\n",
       "  </thead>\n",
       "  <tbody>\n",
       "    <tr>\n",
       "      <td>count</td>\n",
       "      <td>27.000000</td>\n",
       "      <td>27.000000</td>\n",
       "      <td>27.000000</td>\n",
       "      <td>27.000000</td>\n",
       "      <td>27.000000</td>\n",
       "      <td>27.000000</td>\n",
       "    </tr>\n",
       "    <tr>\n",
       "      <td>mean</td>\n",
       "      <td>2005.000000</td>\n",
       "      <td>53921.074074</td>\n",
       "      <td>17612.814815</td>\n",
       "      <td>17738.259259</td>\n",
       "      <td>52379.296296</td>\n",
       "      <td>108781.555556</td>\n",
       "    </tr>\n",
       "    <tr>\n",
       "      <td>std</td>\n",
       "      <td>7.937254</td>\n",
       "      <td>40831.650955</td>\n",
       "      <td>8246.611743</td>\n",
       "      <td>10437.784747</td>\n",
       "      <td>46736.145959</td>\n",
       "      <td>94191.705326</td>\n",
       "    </tr>\n",
       "    <tr>\n",
       "      <td>min</td>\n",
       "      <td>1992.000000</td>\n",
       "      <td>12267.000000</td>\n",
       "      <td>8762.000000</td>\n",
       "      <td>6012.000000</td>\n",
       "      <td>8694.000000</td>\n",
       "      <td>14714.000000</td>\n",
       "    </tr>\n",
       "    <tr>\n",
       "      <td>25%</td>\n",
       "      <td>1998.500000</td>\n",
       "      <td>15900.500000</td>\n",
       "      <td>10453.500000</td>\n",
       "      <td>8975.500000</td>\n",
       "      <td>11241.000000</td>\n",
       "      <td>29848.000000</td>\n",
       "    </tr>\n",
       "    <tr>\n",
       "      <td>50%</td>\n",
       "      <td>2005.000000</td>\n",
       "      <td>49553.000000</td>\n",
       "      <td>15762.000000</td>\n",
       "      <td>13363.000000</td>\n",
       "      <td>46827.000000</td>\n",
       "      <td>53044.000000</td>\n",
       "    </tr>\n",
       "    <tr>\n",
       "      <td>75%</td>\n",
       "      <td>2011.500000</td>\n",
       "      <td>96069.500000</td>\n",
       "      <td>25345.500000</td>\n",
       "      <td>24832.500000</td>\n",
       "      <td>108344.000000</td>\n",
       "      <td>214879.000000</td>\n",
       "    </tr>\n",
       "    <tr>\n",
       "      <td>max</td>\n",
       "      <td>2018.000000</td>\n",
       "      <td>117949.000000</td>\n",
       "      <td>31262.000000</td>\n",
       "      <td>39704.000000</td>\n",
       "      <td>130571.000000</td>\n",
       "      <td>298627.000000</td>\n",
       "    </tr>\n",
       "  </tbody>\n",
       "</table>\n",
       "</div>"
      ],
      "text/plain": [
       "             Tahun  Jumlah_kecelakaan   Korban_mati    Luka_berat  \\\n",
       "count    27.000000          27.000000     27.000000     27.000000   \n",
       "mean   2005.000000       53921.074074  17612.814815  17738.259259   \n",
       "std       7.937254       40831.650955   8246.611743  10437.784747   \n",
       "min    1992.000000       12267.000000   8762.000000   6012.000000   \n",
       "25%    1998.500000       15900.500000  10453.500000   8975.500000   \n",
       "50%    2005.000000       49553.000000  15762.000000  13363.000000   \n",
       "75%    2011.500000       96069.500000  25345.500000  24832.500000   \n",
       "max    2018.000000      117949.000000  31262.000000  39704.000000   \n",
       "\n",
       "         Luka_ringan  Kerugian_materi  \n",
       "count      27.000000        27.000000  \n",
       "mean    52379.296296    108781.555556  \n",
       "std     46736.145959     94191.705326  \n",
       "min      8694.000000     14714.000000  \n",
       "25%     11241.000000     29848.000000  \n",
       "50%     46827.000000     53044.000000  \n",
       "75%    108344.000000    214879.000000  \n",
       "max    130571.000000    298627.000000  "
      ]
     },
     "execution_count": 275,
     "metadata": {},
     "output_type": "execute_result"
    }
   ],
   "source": [
    "daft.describe()"
   ]
  },
  {
   "cell_type": "code",
   "execution_count": 276,
   "metadata": {},
   "outputs": [
    {
     "data": {
      "text/plain": [
       "Tahun                0\n",
       "Jumlah_kecelakaan    0\n",
       "Korban_mati          0\n",
       "Luka_berat           0\n",
       "Luka_ringan          0\n",
       "Kerugian_materi      0\n",
       "dtype: int64"
      ]
     },
     "execution_count": 276,
     "metadata": {},
     "output_type": "execute_result"
    }
   ],
   "source": [
    "daft.isnull().sum()"
   ]
  },
  {
   "cell_type": "code",
   "execution_count": 277,
   "metadata": {},
   "outputs": [
    {
     "data": {
      "text/html": [
       "<div>\n",
       "<style scoped>\n",
       "    .dataframe tbody tr th:only-of-type {\n",
       "        vertical-align: middle;\n",
       "    }\n",
       "\n",
       "    .dataframe tbody tr th {\n",
       "        vertical-align: top;\n",
       "    }\n",
       "\n",
       "    .dataframe thead th {\n",
       "        text-align: right;\n",
       "    }\n",
       "</style>\n",
       "<table border=\"1\" class=\"dataframe\">\n",
       "  <thead>\n",
       "    <tr style=\"text-align: right;\">\n",
       "      <th></th>\n",
       "      <th>Jumlah_kecelakaan</th>\n",
       "      <th>Korban_mati</th>\n",
       "      <th>Luka_berat</th>\n",
       "      <th>Luka_ringan</th>\n",
       "      <th>Kerugian_materi</th>\n",
       "    </tr>\n",
       "  </thead>\n",
       "  <tbody>\n",
       "    <tr>\n",
       "      <td>0</td>\n",
       "      <td>19920</td>\n",
       "      <td>9819</td>\n",
       "      <td>13363</td>\n",
       "      <td>14846</td>\n",
       "      <td>15077</td>\n",
       "    </tr>\n",
       "    <tr>\n",
       "      <td>1</td>\n",
       "      <td>17323</td>\n",
       "      <td>10038</td>\n",
       "      <td>11453</td>\n",
       "      <td>13037</td>\n",
       "      <td>14714</td>\n",
       "    </tr>\n",
       "    <tr>\n",
       "      <td>2</td>\n",
       "      <td>17469</td>\n",
       "      <td>11004</td>\n",
       "      <td>11055</td>\n",
       "      <td>12215</td>\n",
       "      <td>16544</td>\n",
       "    </tr>\n",
       "    <tr>\n",
       "      <td>3</td>\n",
       "      <td>16510</td>\n",
       "      <td>10990</td>\n",
       "      <td>9952</td>\n",
       "      <td>11873</td>\n",
       "      <td>17745</td>\n",
       "    </tr>\n",
       "    <tr>\n",
       "      <td>4</td>\n",
       "      <td>15291</td>\n",
       "      <td>10869</td>\n",
       "      <td>8968</td>\n",
       "      <td>10374</td>\n",
       "      <td>18411</td>\n",
       "    </tr>\n",
       "  </tbody>\n",
       "</table>\n",
       "</div>"
      ],
      "text/plain": [
       "   Jumlah_kecelakaan  Korban_mati  Luka_berat  Luka_ringan  Kerugian_materi\n",
       "0              19920         9819       13363        14846            15077\n",
       "1              17323        10038       11453        13037            14714\n",
       "2              17469        11004       11055        12215            16544\n",
       "3              16510        10990        9952        11873            17745\n",
       "4              15291        10869        8968        10374            18411"
      ]
     },
     "execution_count": 277,
     "metadata": {},
     "output_type": "execute_result"
    }
   ],
   "source": [
    "df = daft.drop(['Tahun'], axis = 1)\n",
    "df.head()"
   ]
  },
  {
   "cell_type": "code",
   "execution_count": 278,
   "metadata": {},
   "outputs": [
    {
     "name": "stdout",
     "output_type": "stream",
     "text": [
      "Jumlah_kecelakaan    int64\n",
      "Korban_mati          int64\n",
      "Luka_berat           int64\n",
      "Luka_ringan          int64\n",
      "Kerugian_materi      int64\n",
      "dtype: object\n"
     ]
    }
   ],
   "source": [
    "print(df.dtypes)"
   ]
  },
  {
   "cell_type": "code",
   "execution_count": 279,
   "metadata": {},
   "outputs": [
    {
     "data": {
      "text/html": [
       "<div>\n",
       "<style scoped>\n",
       "    .dataframe tbody tr th:only-of-type {\n",
       "        vertical-align: middle;\n",
       "    }\n",
       "\n",
       "    .dataframe tbody tr th {\n",
       "        vertical-align: top;\n",
       "    }\n",
       "\n",
       "    .dataframe thead th {\n",
       "        text-align: right;\n",
       "    }\n",
       "</style>\n",
       "<table border=\"1\" class=\"dataframe\">\n",
       "  <thead>\n",
       "    <tr style=\"text-align: right;\">\n",
       "      <th></th>\n",
       "      <th>Jumlah_kecelakaan</th>\n",
       "      <th>Korban_mati</th>\n",
       "      <th>Luka_berat</th>\n",
       "      <th>Luka_ringan</th>\n",
       "      <th>Kerugian_materi</th>\n",
       "    </tr>\n",
       "  </thead>\n",
       "  <tbody>\n",
       "    <tr>\n",
       "      <td>0</td>\n",
       "      <td>19920</td>\n",
       "      <td>9819</td>\n",
       "      <td>13363</td>\n",
       "      <td>14846</td>\n",
       "      <td>15077</td>\n",
       "    </tr>\n",
       "    <tr>\n",
       "      <td>1</td>\n",
       "      <td>17323</td>\n",
       "      <td>10038</td>\n",
       "      <td>11453</td>\n",
       "      <td>13037</td>\n",
       "      <td>14714</td>\n",
       "    </tr>\n",
       "    <tr>\n",
       "      <td>2</td>\n",
       "      <td>17469</td>\n",
       "      <td>11004</td>\n",
       "      <td>11055</td>\n",
       "      <td>12215</td>\n",
       "      <td>16544</td>\n",
       "    </tr>\n",
       "    <tr>\n",
       "      <td>3</td>\n",
       "      <td>16510</td>\n",
       "      <td>10990</td>\n",
       "      <td>9952</td>\n",
       "      <td>11873</td>\n",
       "      <td>17745</td>\n",
       "    </tr>\n",
       "    <tr>\n",
       "      <td>4</td>\n",
       "      <td>15291</td>\n",
       "      <td>10869</td>\n",
       "      <td>8968</td>\n",
       "      <td>10374</td>\n",
       "      <td>18411</td>\n",
       "    </tr>\n",
       "  </tbody>\n",
       "</table>\n",
       "</div>"
      ],
      "text/plain": [
       "   Jumlah_kecelakaan  Korban_mati  Luka_berat  Luka_ringan  Kerugian_materi\n",
       "0              19920         9819       13363        14846            15077\n",
       "1              17323        10038       11453        13037            14714\n",
       "2              17469        11004       11055        12215            16544\n",
       "3              16510        10990        9952        11873            17745\n",
       "4              15291        10869        8968        10374            18411"
      ]
     },
     "execution_count": 279,
     "metadata": {},
     "output_type": "execute_result"
    }
   ],
   "source": [
    "X = df.iloc[:, :-1].values\n",
    "y = df.iloc[:, 1:2].values\n",
    "\n",
    "df.head()"
   ]
  },
  {
   "cell_type": "code",
   "execution_count": 280,
   "metadata": {},
   "outputs": [
    {
     "data": {
      "text/html": [
       "<div>\n",
       "<style scoped>\n",
       "    .dataframe tbody tr th:only-of-type {\n",
       "        vertical-align: middle;\n",
       "    }\n",
       "\n",
       "    .dataframe tbody tr th {\n",
       "        vertical-align: top;\n",
       "    }\n",
       "\n",
       "    .dataframe thead th {\n",
       "        text-align: right;\n",
       "    }\n",
       "</style>\n",
       "<table border=\"1\" class=\"dataframe\">\n",
       "  <thead>\n",
       "    <tr style=\"text-align: right;\">\n",
       "      <th></th>\n",
       "      <th>Jumlah_kecelakaan</th>\n",
       "      <th>Korban_mati</th>\n",
       "      <th>Luka_berat</th>\n",
       "      <th>Luka_ringan</th>\n",
       "      <th>Kerugian_materi</th>\n",
       "    </tr>\n",
       "  </thead>\n",
       "  <tbody>\n",
       "    <tr>\n",
       "      <td>22</td>\n",
       "      <td>95906</td>\n",
       "      <td>28297</td>\n",
       "      <td>26840</td>\n",
       "      <td>109741</td>\n",
       "      <td>250021</td>\n",
       "    </tr>\n",
       "    <tr>\n",
       "      <td>23</td>\n",
       "      <td>96233</td>\n",
       "      <td>24275</td>\n",
       "      <td>22454</td>\n",
       "      <td>107743</td>\n",
       "      <td>215892</td>\n",
       "    </tr>\n",
       "    <tr>\n",
       "      <td>24</td>\n",
       "      <td>106644</td>\n",
       "      <td>31262</td>\n",
       "      <td>20075</td>\n",
       "      <td>120532</td>\n",
       "      <td>229137</td>\n",
       "    </tr>\n",
       "    <tr>\n",
       "      <td>25</td>\n",
       "      <td>104327</td>\n",
       "      <td>30694</td>\n",
       "      <td>14559</td>\n",
       "      <td>121575</td>\n",
       "      <td>217031</td>\n",
       "    </tr>\n",
       "    <tr>\n",
       "      <td>26</td>\n",
       "      <td>109215</td>\n",
       "      <td>29472</td>\n",
       "      <td>13315</td>\n",
       "      <td>130571</td>\n",
       "      <td>213866</td>\n",
       "    </tr>\n",
       "  </tbody>\n",
       "</table>\n",
       "</div>"
      ],
      "text/plain": [
       "    Jumlah_kecelakaan  Korban_mati  Luka_berat  Luka_ringan  Kerugian_materi\n",
       "22              95906        28297       26840       109741           250021\n",
       "23              96233        24275       22454       107743           215892\n",
       "24             106644        31262       20075       120532           229137\n",
       "25             104327        30694       14559       121575           217031\n",
       "26             109215        29472       13315       130571           213866"
      ]
     },
     "execution_count": 280,
     "metadata": {},
     "output_type": "execute_result"
    }
   ],
   "source": [
    "df.tail()"
   ]
  },
  {
   "cell_type": "markdown",
   "metadata": {},
   "source": [
    "Pada proses dibawah ini adalah dimana data dilihat menggunakan grafik. Dari grafik yang dihasilkan grafik akan menunjukkan bagaimana data tersebut bersinambungan dimana dalam hal ini dapat ditentukan algoritma apa yang dapat digunakan. Dari grafik yang dihasilkan, algoritma yang dapat digunakan yaitu menggukana Linear Reggression dimana dianalisis keterikatan hubungan X dengan Y. "
   ]
  },
  {
   "cell_type": "code",
   "execution_count": 281,
   "metadata": {},
   "outputs": [
    {
     "name": "stderr",
     "output_type": "stream",
     "text": [
      "C:\\Users\\ACER\\Anaconda3\\lib\\site-packages\\seaborn\\axisgrid.py:2065: UserWarning: The `size` parameter has been renamed to `height`; pleaes update your code.\n",
      "  warnings.warn(msg, UserWarning)\n"
     ]
    },
    {
     "data": {
      "text/plain": [
       "<seaborn.axisgrid.PairGrid at 0x1297ee50>"
      ]
     },
     "execution_count": 281,
     "metadata": {},
     "output_type": "execute_result"
    },
    {
     "data": {
      "image/png": "[encoded data removed]",
      "text/plain": [
       "<Figure size 1411.2x504 with 4 Axes>"
      ]
     },
     "metadata": {
      "needs_background": "light"
     },
     "output_type": "display_data"
    }
   ],
   "source": [
    "sns.pairplot(df, x_vars=['Jumlah_kecelakaan','Korban_mati', 'Luka_berat', 'Luka_ringan'], y_vars='Kerugian_materi', size=7, aspect= 0.7, kind= 'reg')"
   ]
  },
  {
   "cell_type": "code",
   "execution_count": 282,
   "metadata": {},
   "outputs": [
    {
     "data": {
      "text/plain": [
       "<seaborn.axisgrid.PairGrid at 0x13551430>"
      ]
     },
     "execution_count": 282,
     "metadata": {},
     "output_type": "execute_result"
    },
    {
     "data": {
      "image/png": "[encoded data removed]",
      "text/plain": [
       "<Figure size 352.8x504 with 1 Axes>"
      ]
     },
     "metadata": {
      "needs_background": "light"
     },
     "output_type": "display_data"
    }
   ],
   "source": [
    "sns.pairplot(df, x_vars=['Jumlah_kecelakaan'], y_vars='Kerugian_materi', size=7, aspect= 0.7, kind= 'reg')"
   ]
  },
  {
   "cell_type": "code",
   "execution_count": 283,
   "metadata": {},
   "outputs": [
    {
     "data": {
      "text/plain": [
       "<matplotlib.axes._subplots.AxesSubplot at 0x134929d0>"
      ]
     },
     "execution_count": 283,
     "metadata": {},
     "output_type": "execute_result"
    },
    {
     "data": {
      "image/png": "[encoded data removed]",
      "text/plain": [
       "<Figure size 432x288 with 2 Axes>"
      ]
     },
     "metadata": {
      "needs_background": "light"
     },
     "output_type": "display_data"
    }
   ],
   "source": [
    "sns.heatmap(df.corr())"
   ]
  },
  {
   "cell_type": "code",
   "execution_count": 284,
   "metadata": {},
   "outputs": [
    {
     "data": {
      "image/png": "[encoded data removed]",
      "text/plain": [
       "<Figure size 864x288 with 2 Axes>"
      ]
     },
     "metadata": {
      "needs_background": "light"
     },
     "output_type": "display_data"
    }
   ],
   "source": [
    "f = plt.figure(figsize=(12,4))\n",
    "f.add_subplot(1,2,1)\n",
    "df['Jumlah_kecelakaan'].plot(kind='kde')\n",
    "f.add_subplot(1,2,2)\n",
    "plt.boxplot(df['Jumlah_kecelakaan'])\n",
    "plt.show()"
   ]
  },
  {
   "cell_type": "markdown",
   "metadata": {},
   "source": [
    "- Dapat dilihat bahwa mean dan median dari Jumlah_kecelakaan terpusat di sekitar nilai 0-50000."
   ]
  },
  {
   "cell_type": "code",
   "execution_count": 285,
   "metadata": {},
   "outputs": [
    {
     "data": {
      "image/png": "[encoded data removed]",
      "text/plain": [
       "<Figure size 864x288 with 2 Axes>"
      ]
     },
     "metadata": {
      "needs_background": "light"
     },
     "output_type": "display_data"
    }
   ],
   "source": [
    "f = plt.figure(figsize=(12,4))\n",
    "f.add_subplot(1,2,1)\n",
    "df['Kerugian_materi'].plot(kind='kde')\n",
    "f.add_subplot(1,2,2)\n",
    "plt.boxplot(df['Kerugian_materi'])\n",
    "plt.show()"
   ]
  },
  {
   "cell_type": "markdown",
   "metadata": {},
   "source": [
    "- Dapat dilihat bahwa mean dan median dari Jumlah_kecelakaan terpusat di sekitar nilai 0-100000.\n",
    "\n",
    "- persebaran data kurang merata (memiliki standard deviasi yang lebih tinggi ) dibandingkan dengan data Jumlah_kecelakaan karena memiliki whiskers boxplot yang panjang."
   ]
  },
  {
   "cell_type": "code",
   "execution_count": 286,
   "metadata": {},
   "outputs": [
    {
     "data": {
      "image/png": "[encoded data removed]",
      "text/plain": [
       "<Figure size 432x288 with 1 Axes>"
      ]
     },
     "metadata": {
      "needs_background": "light"
     },
     "output_type": "display_data"
    }
   ],
   "source": [
    "plt.scatter(df['Jumlah_kecelakaan'], df['Kerugian_materi'])\n",
    "plt.xlabel('Jumlah_kecelakaan')\n",
    "plt.ylabel('Kerugian_materi')\n",
    "plt.title('Scatter Plot Jumlah_kecelakaan vs Kerugian_materi')\n",
    "plt.show()"
   ]
  },
  {
   "cell_type": "markdown",
   "metadata": {},
   "source": [
    "- Dari scatter plot dapat dilihat bahwa data memiliki korelasi positif yang cukup signifikan.\n",
    "- Hal ini berarti dengan bertambahnya nilai dari Jumlah_kecelakaan maka nilai Kerugian_materi pun akan bertambah."
   ]
  },
  {
   "cell_type": "code",
   "execution_count": 287,
   "metadata": {},
   "outputs": [
    {
     "data": {
      "text/html": [
       "<div>\n",
       "<style scoped>\n",
       "    .dataframe tbody tr th:only-of-type {\n",
       "        vertical-align: middle;\n",
       "    }\n",
       "\n",
       "    .dataframe tbody tr th {\n",
       "        vertical-align: top;\n",
       "    }\n",
       "\n",
       "    .dataframe thead th {\n",
       "        text-align: right;\n",
       "    }\n",
       "</style>\n",
       "<table border=\"1\" class=\"dataframe\">\n",
       "  <thead>\n",
       "    <tr style=\"text-align: right;\">\n",
       "      <th></th>\n",
       "      <th>Jumlah_kecelakaan</th>\n",
       "      <th>Korban_mati</th>\n",
       "      <th>Luka_berat</th>\n",
       "      <th>Luka_ringan</th>\n",
       "      <th>Kerugian_materi</th>\n",
       "    </tr>\n",
       "  </thead>\n",
       "  <tbody>\n",
       "    <tr>\n",
       "      <td>Jumlah_kecelakaan</td>\n",
       "      <td>1.000000</td>\n",
       "      <td>0.941714</td>\n",
       "      <td>0.814375</td>\n",
       "      <td>0.963484</td>\n",
       "      <td>0.907106</td>\n",
       "    </tr>\n",
       "    <tr>\n",
       "      <td>Korban_mati</td>\n",
       "      <td>0.941714</td>\n",
       "      <td>1.000000</td>\n",
       "      <td>0.664430</td>\n",
       "      <td>0.984766</td>\n",
       "      <td>0.957860</td>\n",
       "    </tr>\n",
       "    <tr>\n",
       "      <td>Luka_berat</td>\n",
       "      <td>0.814375</td>\n",
       "      <td>0.664430</td>\n",
       "      <td>1.000000</td>\n",
       "      <td>0.677751</td>\n",
       "      <td>0.666734</td>\n",
       "    </tr>\n",
       "    <tr>\n",
       "      <td>Luka_ringan</td>\n",
       "      <td>0.963484</td>\n",
       "      <td>0.984766</td>\n",
       "      <td>0.677751</td>\n",
       "      <td>1.000000</td>\n",
       "      <td>0.967833</td>\n",
       "    </tr>\n",
       "    <tr>\n",
       "      <td>Kerugian_materi</td>\n",
       "      <td>0.907106</td>\n",
       "      <td>0.957860</td>\n",
       "      <td>0.666734</td>\n",
       "      <td>0.967833</td>\n",
       "      <td>1.000000</td>\n",
       "    </tr>\n",
       "  </tbody>\n",
       "</table>\n",
       "</div>"
      ],
      "text/plain": [
       "                   Jumlah_kecelakaan  Korban_mati  Luka_berat  Luka_ringan  \\\n",
       "Jumlah_kecelakaan           1.000000     0.941714    0.814375     0.963484   \n",
       "Korban_mati                 0.941714     1.000000    0.664430     0.984766   \n",
       "Luka_berat                  0.814375     0.664430    1.000000     0.677751   \n",
       "Luka_ringan                 0.963484     0.984766    0.677751     1.000000   \n",
       "Kerugian_materi             0.907106     0.957860    0.666734     0.967833   \n",
       "\n",
       "                   Kerugian_materi  \n",
       "Jumlah_kecelakaan         0.907106  \n",
       "Korban_mati               0.957860  \n",
       "Luka_berat                0.666734  \n",
       "Luka_ringan               0.967833  \n",
       "Kerugian_materi           1.000000  "
      ]
     },
     "execution_count": 287,
     "metadata": {},
     "output_type": "execute_result"
    }
   ],
   "source": [
    "df.corr()"
   ]
  },
  {
   "cell_type": "markdown",
   "metadata": {},
   "source": [
    "Berdasarkan data diatas dapat menentukan nilai korelasi keduannya dimana nilai korelasinya adalah 0,90 yang termasuk kategori sangat tinggi."
   ]
  },
  {
   "cell_type": "markdown",
   "metadata": {},
   "source": [
    "## Processing\n",
    "Pada proses dibawah ini merupakan processing  dimana dapat diolah agar dapat dianalisis. Module train_test_split digunakan untuk membagi data kita menjadi training dan testing set. Pada pembagian data pada umumnya menggunakan presentasi 80% data untuk training data dan 20% data untuk test data. "
   ]
  },
  {
   "cell_type": "code",
   "execution_count": 297,
   "metadata": {},
   "outputs": [],
   "source": [
    "from sklearn.linear_model import LinearRegression\n",
    "from sklearn.model_selection import train_test_split"
   ]
  },
  {
   "cell_type": "markdown",
   "metadata": {},
   "source": [
    "Pada proses kali ini, saya menggunakan 3 cara yaitu:\n",
    "\n",
    "- menggunakan semua data (algoritma yang menentukan mana yang termasuk X dan Y)\n",
    "- menggunakan semua data kecuali Kerugian_materi untuk X dan dan Kerugian_materi untuk Y\n",
    "- menggunakan data Jumlah_kecelakaan untuk X dan Kerugian_materi untuk Y\n",
    "\n",
    "dalam hal ini, akan dianalasis mana yang memiliki nilai akurasi yang tinggi dengan parameter yang dibutuhkan dalam analisis data"
   ]
  },
  {
   "cell_type": "code",
   "execution_count": 298,
   "metadata": {},
   "outputs": [],
   "source": [
    "X_train, X_test, y_train, y_test = train_test_split(X, y, test_size=1/3, random_state=0)"
   ]
  },
  {
   "cell_type": "code",
   "execution_count": 299,
   "metadata": {},
   "outputs": [
    {
     "data": {
      "text/plain": [
       "LinearRegression(copy_X=True, fit_intercept=True, n_jobs=None, normalize=False)"
      ]
     },
     "execution_count": 299,
     "metadata": {},
     "output_type": "execute_result"
    }
   ],
   "source": [
    "regr = LinearRegression()\n",
    "regr.fit(X_train, y_train)"
   ]
  },
  {
   "cell_type": "markdown",
   "metadata": {},
   "source": [
    "- regr.intercept_ digunakan untuk mencari intercept (b).\n",
    "- regr.coef_ digunakan untuk mencari nilai slope/koefisien (m) "
   ]
  },
  {
   "cell_type": "code",
   "execution_count": 300,
   "metadata": {},
   "outputs": [
    {
     "name": "stdout",
     "output_type": "stream",
     "text": [
      "[-3.63797881e-12]\n"
     ]
    }
   ],
   "source": [
    "print(regr.intercept_)"
   ]
  },
  {
   "cell_type": "code",
   "execution_count": 301,
   "metadata": {},
   "outputs": [
    {
     "name": "stdout",
     "output_type": "stream",
     "text": [
      "[[3.00636602e-16 1.00000000e+00 1.38777878e-16 1.11022302e-16]]\n"
     ]
    }
   ],
   "source": [
    "print(regr.coef_)"
   ]
  },
  {
   "cell_type": "code",
   "execution_count": 302,
   "metadata": {},
   "outputs": [
    {
     "name": "stdout",
     "output_type": "stream",
     "text": [
      "[[11004.]\n",
      " [31262.]\n",
      " [15762.]\n",
      " [19979.]\n",
      " [12308.]\n",
      " [ 9856.]\n",
      " [24275.]\n",
      " [16115.]\n",
      " [31195.]]\n"
     ]
    }
   ],
   "source": [
    "y_pred = regr.predict(X_test)\n",
    "print(y_pred)"
   ]
  },
  {
   "cell_type": "code",
   "execution_count": 303,
   "metadata": {},
   "outputs": [
    {
     "data": {
      "text/plain": [
       "1.0"
      ]
     },
     "execution_count": 303,
     "metadata": {},
     "output_type": "execute_result"
    }
   ],
   "source": [
    "regr.score(X_test, y_test)"
   ]
  },
  {
   "cell_type": "markdown",
   "metadata": {},
   "source": [
    "Berdasarkan perhitungan yang didapatkan jika menggunakan semua data (algoritma yang menentukan mana yang termasuk X dan Y) memperoleh nilai akurasi sebesar 100% yang berarti itu sangat baik, namun tidaklah sesuai dengan parameter yang dibutuhkan sehingga tidak dapat digunakan untuk menentukan nilai prediksi yang akan digunakan"
   ]
  },
  {
   "cell_type": "markdown",
   "metadata": {},
   "source": [
    "Berikut merupakan code yang digunakan untuk mengecek apakah nilai akurasi sudah sesuai apa tidak."
   ]
  },
  {
   "cell_type": "code",
   "execution_count": 306,
   "metadata": {},
   "outputs": [
    {
     "data": {
      "text/plain": [
       "1.0"
      ]
     },
     "execution_count": 306,
     "metadata": {},
     "output_type": "execute_result"
    }
   ],
   "source": [
    "from sklearn.metrics import r2_score\n",
    "r2_score(y_test, y_pred)"
   ]
  },
  {
   "cell_type": "markdown",
   "metadata": {},
   "source": [
    "Pada pengujian kedua menggunakan semua data kecuali Kerugian_materi untuk X dan dan Kerugian_materi untuk Y"
   ]
  },
  {
   "cell_type": "code",
   "execution_count": 307,
   "metadata": {},
   "outputs": [],
   "source": [
    "X1 = df.drop(['Kerugian_materi'], axis=1)\n",
    "y1 = df['Kerugian_materi']"
   ]
  },
  {
   "cell_type": "code",
   "execution_count": 308,
   "metadata": {},
   "outputs": [],
   "source": [
    "X_train, X_test, y_train, y_test = train_test_split(X1, y1, test_size=1/3, random_state=0)"
   ]
  },
  {
   "cell_type": "code",
   "execution_count": 309,
   "metadata": {},
   "outputs": [
    {
     "data": {
      "text/plain": [
       "LinearRegression(copy_X=True, fit_intercept=True, n_jobs=None, normalize=False)"
      ]
     },
     "execution_count": 309,
     "metadata": {},
     "output_type": "execute_result"
    }
   ],
   "source": [
    "regr = LinearRegression()\n",
    "regr.fit(X_train, y_train)"
   ]
  },
  {
   "cell_type": "code",
   "execution_count": 310,
   "metadata": {},
   "outputs": [
    {
     "name": "stdout",
     "output_type": "stream",
     "text": [
      "-17917.296613152663\n"
     ]
    }
   ],
   "source": [
    "print(regr.intercept_)"
   ]
  },
  {
   "cell_type": "code",
   "execution_count": 311,
   "metadata": {},
   "outputs": [
    {
     "name": "stdout",
     "output_type": "stream",
     "text": [
      "[-2.52476042  1.68260127  3.70736078  3.24796401]\n"
     ]
    }
   ],
   "source": [
    "print(regr.coef_)"
   ]
  },
  {
   "cell_type": "code",
   "execution_count": 312,
   "metadata": {},
   "outputs": [
    {
     "name": "stdout",
     "output_type": "stream",
     "text": [
      "[ 37151.76182413 231342.49995519  82188.5918611  148162.39133613\n",
      "  37613.19427746  15845.56566089 213153.04519568  77608.35391555\n",
      " 244803.75581191]\n"
     ]
    }
   ],
   "source": [
    "y_pred1 = regr.predict(X_test)\n",
    "print(y_pred1)"
   ]
  },
  {
   "cell_type": "code",
   "execution_count": 313,
   "metadata": {},
   "outputs": [
    {
     "data": {
      "text/plain": [
       "0.9491394384184006"
      ]
     },
     "execution_count": 313,
     "metadata": {},
     "output_type": "execute_result"
    }
   ],
   "source": [
    "regr.score(X_test, y_test)"
   ]
  },
  {
   "cell_type": "code",
   "execution_count": 314,
   "metadata": {},
   "outputs": [
    {
     "data": {
      "text/plain": [
       "0.9491394384184006"
      ]
     },
     "execution_count": 314,
     "metadata": {},
     "output_type": "execute_result"
    }
   ],
   "source": [
    "from sklearn.metrics import r2_score\n",
    "r2_score(y_test, y_pred1)"
   ]
  },
  {
   "cell_type": "markdown",
   "metadata": {},
   "source": [
    "Pada perhitungan diatas didapatkan nilai akurasi 94,9% dimana termasuk bagus namun tidak sesuai dengan parameter yang dicari."
   ]
  },
  {
   "cell_type": "markdown",
   "metadata": {},
   "source": [
    "Pada perhitungan ketiga menggunakan data Jumlah_kecelakaan untuk X dan Kerugian_materi untuk Y"
   ]
  },
  {
   "cell_type": "code",
   "execution_count": 245,
   "metadata": {},
   "outputs": [],
   "source": [
    "X2 = df.drop(['Korban_mati', 'Luka_berat', 'Luka_ringan','Kerugian_materi'], axis=1)\n",
    "y2 = df['Kerugian_materi']"
   ]
  },
  {
   "cell_type": "code",
   "execution_count": 246,
   "metadata": {},
   "outputs": [],
   "source": [
    "X_train, X_test, y_train, y_test = train_test_split(X2, y2, test_size=1/3, random_state=0)"
   ]
  },
  {
   "cell_type": "code",
   "execution_count": 247,
   "metadata": {},
   "outputs": [
    {
     "data": {
      "text/plain": [
       "LinearRegression(copy_X=True, fit_intercept=True, n_jobs=None, normalize=False)"
      ]
     },
     "execution_count": 247,
     "metadata": {},
     "output_type": "execute_result"
    }
   ],
   "source": [
    "regr = LinearRegression()\n",
    "regr.fit(X_train, y_train)"
   ]
  },
  {
   "cell_type": "code",
   "execution_count": 248,
   "metadata": {},
   "outputs": [
    {
     "name": "stdout",
     "output_type": "stream",
     "text": [
      "-6920.409735333611\n"
     ]
    }
   ],
   "source": [
    "print(regr.intercept_)"
   ]
  },
  {
   "cell_type": "code",
   "execution_count": 249,
   "metadata": {},
   "outputs": [
    {
     "name": "stdout",
     "output_type": "stream",
     "text": [
      "[2.39416043]\n"
     ]
    }
   ],
   "source": [
    "print(regr.coef_)"
   ]
  },
  {
   "cell_type": "code",
   "execution_count": 250,
   "metadata": {},
   "outputs": [
    {
     "name": "stdout",
     "output_type": "stream",
     "text": [
      "[ 34903.17873182 248402.43464562 201419.43046225 143815.93063285\n",
      "  34022.12769536  25158.94580141 223476.83045926 212439.75089927\n",
      " 253315.25183805]\n"
     ]
    }
   ],
   "source": [
    "y_pred2 = regr.predict(X_test)\n",
    "print(y_pred2)"
   ]
  },
  {
   "cell_type": "code",
   "execution_count": 251,
   "metadata": {},
   "outputs": [
    {
     "data": {
      "text/plain": [
       "0.3146838713713047"
      ]
     },
     "execution_count": 251,
     "metadata": {},
     "output_type": "execute_result"
    }
   ],
   "source": [
    "regr.score(X_test, y_test)"
   ]
  },
  {
   "cell_type": "code",
   "execution_count": 252,
   "metadata": {},
   "outputs": [
    {
     "data": {
      "text/plain": [
       "0.3146838713713047"
      ]
     },
     "execution_count": 252,
     "metadata": {},
     "output_type": "execute_result"
    }
   ],
   "source": [
    "from sklearn.metrics import r2_score\n",
    "r2_score(y_test, y_pred2)"
   ]
  },
  {
   "cell_type": "markdown",
   "metadata": {},
   "source": [
    "Pada perhitungan diatas didapatkan nilai akurasi sebesar 31,4% dimana menunjukkan nilai yang rendah dibandingkan kedua cara yang diatas, namun sesuai dengan parameter yang dicari dimana perhitungan menunjukkan nilai korelasi Jumlah_kecelakaan dengan Kerugian_materi yang dihasilkan.\n",
    "\n",
    "Untuk jelas dapat diperhatikan grafik dibawah ini. Grafik dibawah ini menunjukkan data yang dilatih (dengan titik warna merah) dengan garis linear. Grafik tidak jauh berbeda dengan grafik diatas karena grafik dibawah ini meruapakan data yang dalam hal untuk dilatih"
   ]
  },
  {
   "cell_type": "code",
   "execution_count": 253,
   "metadata": {},
   "outputs": [
    {
     "data": {
      "image/png": "[encoded data removed]",
      "text/plain": [
       "<Figure size 432x288 with 1 Axes>"
      ]
     },
     "metadata": {
      "needs_background": "light"
     },
     "output_type": "display_data"
    }
   ],
   "source": [
    "plt.scatter(X_train, y_train , color = \"red\")\n",
    "plt.plot(X_test, y_pred2, color = \"green\")\n",
    "plt.title(\"Hasil dari pengujian data (Training set)\")\n",
    "plt.xlabel(\"Jumlah_kecelakaan\")\n",
    "plt.ylabel(\"Kerugian_materi\")\n",
    "plt.show()"
   ]
  },
  {
   "cell_type": "markdown",
   "metadata": {},
   "source": [
    "Garis hijau merupakan Regression Line dari model yang telah dibuat sebelumnya."
   ]
  },
  {
   "cell_type": "code",
   "execution_count": 254,
   "metadata": {},
   "outputs": [
    {
     "data": {
      "image/png": "[encoded data removed]",
      "text/plain": [
       "<Figure size 432x288 with 1 Axes>"
      ]
     },
     "metadata": {
      "needs_background": "light"
     },
     "output_type": "display_data"
    }
   ],
   "source": [
    "plt.scatter(X_test, y_test, color = \"red\")\n",
    "plt.plot(X_test, y_pred2, color = \"green\")\n",
    "plt.title(\"Hasil dari pengujian data (Test set)\")\n",
    "plt.xlabel(\"Jumlah_kecelakaan\")\n",
    "plt.ylabel(\"Kerugian_materi\")\n",
    "plt.show()"
   ]
  },
  {
   "cell_type": "markdown",
   "metadata": {},
   "source": [
    "Berikut merupakan prediksi Kerugian_materi yang dihasilkan jika Jumlah_kecelakaan sebesar 15.000"
   ]
  },
  {
   "cell_type": "code",
   "execution_count": 255,
   "metadata": {},
   "outputs": [
    {
     "data": {
      "text/plain": [
       "array([28991.99664209])"
      ]
     },
     "execution_count": 255,
     "metadata": {},
     "output_type": "execute_result"
    }
   ],
   "source": [
    "regr.predict([[15000]])"
   ]
  },
  {
   "cell_type": "markdown",
   "metadata": {},
   "source": [
    "Berikut merupakan prediksi Kerugian_materi yang dihasilkan jika Jumlah_kecelakaan sebesar 100.000"
   ]
  },
  {
   "cell_type": "code",
   "execution_count": 256,
   "metadata": {},
   "outputs": [
    {
     "data": {
      "text/plain": [
       "array([232495.63278085])"
      ]
     },
     "execution_count": 256,
     "metadata": {},
     "output_type": "execute_result"
    }
   ],
   "source": [
    "regr.predict([[100000]])"
   ]
  },
  {
   "cell_type": "markdown",
   "metadata": {},
   "source": [
    "Berdasarkan hasil nilai diatas dapat diketahui jika nilai prediksi yang dihasilkan tidak sesuai dengan yang diinginkan karena harnya memiliki nilai akurasi sebesar 31,4% dimana nilai tersebut termasuk kedalam rendah karena hanya menggunakan parameter X(Jumlah_Kecelakaan) dan Y(Kerugian_materi). Jika menggunakan multiple linear regression hasil yang didapatkan sebesar 94,9% karena menggunakan parameter input X yang banyak sehingga dapat dijadikan tolak ukur nilai Y(Kerugian_materi). Sehingga dalam menentukan nilai prediksi pada kasus ini menggunakan metode algoritma Mutiple Linear Regression lebih baik dibandingkan dengan simple linear regression. \n",
    "\n",
    "Pada akhirnya nanti diketahui seberapa besar akurasi metode yang digunakan dalam memprediksi kerugian materi yang dihasilkan dengan nilai jumlah kecelakaan yang diberikan. Berdasarkan hasil yang ditunjukkan seharusnya jika jumlah kecelakaan semakin besar maka jumlah kerugian yang ditimbulkan semakin besar karena setiap adanya kecelakaan maka akan menimbulkan kerugian materi. Sehingga dari hal tersebut kita juga dapat mengendalikan resiko kecelakaan setiap tahun dengan menganalisa tingkat kecelakaan per tahunnya dan hal tersebut juga dapat dijadikan parameter keberhasilan penerapan K3 jika jumlah kecelakaan menurun setiap tahunnya. Dengan adanya prediksi dapat memberikan kemudahan dan tolak ukur untuk mencapai target yang diinginkan. "
   ]
  },
  {
   "cell_type": "code",
   "execution_count": null,
   "metadata": {},
   "outputs": [],
   "source": []
  }
 ],
 "metadata": {
  "kernelspec": {
   "display_name": "Python 3",
   "language": "python",
   "name": "python3"
  },
  "language_info": {
   "codemirror_mode": {
    "name": "ipython",
    "version": 3
   },
   "file_extension": ".py",
   "mimetype": "text/x-python",
   "name": "python",
   "nbconvert_exporter": "python",
   "pygments_lexer": "ipython3",
   "version": "3.7.4"
  }
 },
 "nbformat": 4,
 "nbformat_minor": 2
}
